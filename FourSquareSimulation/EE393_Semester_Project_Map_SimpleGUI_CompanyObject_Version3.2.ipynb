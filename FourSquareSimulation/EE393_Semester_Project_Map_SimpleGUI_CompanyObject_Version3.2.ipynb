{
 "cells": [
  {
   "cell_type": "markdown",
   "metadata": {},
   "source": [
    "| Name  | Surname   | Student No  | Department  |\n",
    "|---|---|---|---|\n",
    "| Emin  | Kartci  | S014877  | EE Engineering  |\n",
    "|Ozan | Yurtsever | S015164 | EE Engineering |\n",
    "|Yamaç Demirkan| Yılmaz |S018368 |Computer Science|\n",
    "|Muhammed Ali |Kumaşoğlu| S018505|EE Engineering |\n",
    "\n",
    "\n",
    "\n",
    "## If you cannot use foluim library, you can still execute the simulation\n",
    "# If you do not have the libraries INSTALL THEM\n"
   ]
  },
  {
   "cell_type": "code",
   "execution_count": 2,
   "metadata": {},
   "outputs": [
    {
     "name": "stdout",
     "output_type": "stream",
     "text": [
      "Collecting foursquare\n",
      "  Downloading foursquare-1%212020.1.30-py3-none-any.whl (20 kB)\n",
      "Requirement already satisfied: requests>=2.1 in /Users/eminkartci/opt/anaconda3/lib/python3.8/site-packages (from foursquare) (2.24.0)\n",
      "Requirement already satisfied: six in /Users/eminkartci/opt/anaconda3/lib/python3.8/site-packages (from foursquare) (1.15.0)\n",
      "Requirement already satisfied: chardet<4,>=3.0.2 in /Users/eminkartci/opt/anaconda3/lib/python3.8/site-packages (from requests>=2.1->foursquare) (3.0.4)\n",
      "Requirement already satisfied: idna<3,>=2.5 in /Users/eminkartci/opt/anaconda3/lib/python3.8/site-packages (from requests>=2.1->foursquare) (2.10)\n",
      "Requirement already satisfied: urllib3!=1.25.0,!=1.25.1,<1.26,>=1.21.1 in /Users/eminkartci/opt/anaconda3/lib/python3.8/site-packages (from requests>=2.1->foursquare) (1.25.11)\n",
      "Requirement already satisfied: certifi>=2017.4.17 in /Users/eminkartci/opt/anaconda3/lib/python3.8/site-packages (from requests>=2.1->foursquare) (2020.6.20)\n",
      "Installing collected packages: foursquare\n",
      "Successfully installed foursquare-1!2020.1.30\n",
      "Collecting folium\n",
      "  Downloading folium-0.12.1-py2.py3-none-any.whl (94 kB)\n",
      "\u001b[K     |████████████████████████████████| 94 kB 1.1 MB/s eta 0:00:01\n",
      "\u001b[?25hRequirement already satisfied: numpy in /Users/eminkartci/opt/anaconda3/lib/python3.8/site-packages (from folium) (1.19.2)\n",
      "Requirement already satisfied: jinja2>=2.9 in /Users/eminkartci/opt/anaconda3/lib/python3.8/site-packages (from folium) (2.11.2)\n",
      "Collecting branca>=0.3.0\n",
      "  Downloading branca-0.4.2-py3-none-any.whl (24 kB)\n",
      "Requirement already satisfied: requests in /Users/eminkartci/opt/anaconda3/lib/python3.8/site-packages (from folium) (2.24.0)\n",
      "Requirement already satisfied: MarkupSafe>=0.23 in /Users/eminkartci/opt/anaconda3/lib/python3.8/site-packages (from jinja2>=2.9->folium) (1.1.1)\n",
      "Requirement already satisfied: idna<3,>=2.5 in /Users/eminkartci/opt/anaconda3/lib/python3.8/site-packages (from requests->folium) (2.10)\n",
      "Requirement already satisfied: urllib3!=1.25.0,!=1.25.1,<1.26,>=1.21.1 in /Users/eminkartci/opt/anaconda3/lib/python3.8/site-packages (from requests->folium) (1.25.11)\n",
      "Requirement already satisfied: certifi>=2017.4.17 in /Users/eminkartci/opt/anaconda3/lib/python3.8/site-packages (from requests->folium) (2020.6.20)\n",
      "Requirement already satisfied: chardet<4,>=3.0.2 in /Users/eminkartci/opt/anaconda3/lib/python3.8/site-packages (from requests->folium) (3.0.4)\n",
      "Installing collected packages: branca, folium\n",
      "Successfully installed branca-0.4.2 folium-0.12.1\n",
      "Collecting geopy\n",
      "  Downloading geopy-2.1.0-py3-none-any.whl (112 kB)\n",
      "\u001b[K     |████████████████████████████████| 112 kB 1.1 MB/s eta 0:00:01\n",
      "\u001b[?25hCollecting geographiclib<2,>=1.49\n",
      "  Downloading geographiclib-1.50-py3-none-any.whl (38 kB)\n",
      "Installing collected packages: geographiclib, geopy\n",
      "Successfully installed geographiclib-1.50 geopy-2.1.0\n"
     ]
    }
   ],
   "source": [
    "\n",
    "!pip3 install foursquare\n",
    "!pip3 install folium\n",
    "!pip3 install geopy"
   ]
  },
  {
   "cell_type": "code",
   "execution_count": 3,
   "metadata": {},
   "outputs": [],
   "source": [
    "# To interact with user use ipywidgets library - Generate a simple GUI\n",
    "from __future__ import print_function\n",
    "from ipywidgets import interact, interactive, fixed, interact_manual\n",
    "import ipywidgets as widgets\n",
    "\n",
    "import numpy as np\n",
    "import matplotlib.pyplot as plt\n",
    "import math\n",
    "import random\n",
    "import time\n",
    "\n",
    "# import pandas and json to handle data\n",
    "import pandas as pd\n",
    "import json \n",
    "\n",
    "# import manuel libraries\n",
    "from Company import Company\n",
    "from SimulationLibrary import SimulationEnvironment\n",
    "\n",
    "# Mapping libraries\n",
    "from pandas.io.json import json_normalize\n",
    "import folium\n",
    "from geopy.geocoders import Nominatim \n",
    "import requests\n",
    "import pandas as pd\n",
    "import folium\n",
    "from folium import plugins\n",
    "\n"
   ]
  },
  {
   "cell_type": "code",
   "execution_count": 4,
   "metadata": {},
   "outputs": [],
   "source": [
    "# DEFINE THE IPYWIDGETS\n",
    "\n",
    "# title - start\n",
    "programLabel = widgets.Label('-------------------------->  RESTAURANT SIMULATOR PROGRAM  <--------------------------', layout=widgets.Layout(width='100%'))\n",
    "\n",
    "# company info\n",
    "companyName = widgets.Text(description=\"Comp. Name\",value=\"Example LTD\",layout=widgets.Layout(width=\"50%\"))\n",
    "longitude = widgets.Text(description=\"Longitude\",value=\"40.730610\",layout=widgets.Layout(width=\"30%\"))\n",
    "latitude = widgets.Text(description=\"Latitude\",value=\"-73.935242\",layout=widgets.Layout(width=\"30%\"))\n",
    "infoLabel = widgets.Label('------!  You have to define a location around NEWYORK ## Center 40.74 & -73.94 ## !------', layout=widgets.Layout(width='100%'))\n",
    "# break\n",
    "br1Label = widgets.Label('-----------------------------------------------------------------------------------------------------', layout=widgets.Layout(width='100%'))\n",
    "\n",
    "# services\n",
    "servicesLabel = widgets.Label('Select Services:', layout=widgets.Layout(width='100%'))\n",
    "Dessertbox = widgets.Checkbox(False, description='Dessert')\n",
    "Saladbox = widgets.Checkbox(False, description='Salad')\n",
    "Drinkbox = widgets.Checkbox(False, description='Drink')\n",
    "\n",
    "# break\n",
    "br2Label = widgets.Label('-----------------------------------------------------------------------------------------------------', layout=widgets.Layout(width='100%'))\n",
    "\n",
    "# product info - income statement parameters\n",
    "expectedPriceLabel = widgets.Label('Expected Average Price:', layout=widgets.Layout(width='100%'))\n",
    "expectedAveragePrice = widgets.IntSlider(min=10, max=100, step=1, description='(Euro): ',value=0)\n",
    "\n",
    "expectedUnitCostLabel = widgets.Label('Expected Average Unit Cost:', layout=widgets.Layout(width='100%'))\n",
    "expectedUnitCost = widgets.IntSlider(min=5, max=50, step=1, description='(Euro): ',value=0)\n",
    "\n",
    "expectedSalesLabel = widgets.Label('Expected Sales Monthly:', layout=widgets.Layout(width='100%'))\n",
    "expectedSales = widgets.IntSlider(min=5000, max=10000, step=1, description='(Euro): ',value=0)\n",
    "\n",
    "# company expenses\n",
    "fixedCostLabel = widgets.Label('Fixed Costs:', layout=widgets.Layout(width='100%'))\n",
    "fixedCost = widgets.FloatText(value=10000, description='(Euro): ',color = 'blue')\n",
    "\n",
    "taxRateLabel = widgets.Label('Tax Rate:', layout=widgets.Layout(width='100%'))\n",
    "taxRate = widgets.FloatSlider(min=5, max=100, step=1, description='%: ',value=0)\n",
    "\n",
    "# break - finish\n",
    "br3Label = widgets.Label('-----------------------------------------------------------------------------------------------------', layout=widgets.Layout(width='100%'))"
   ]
  },
  {
   "cell_type": "code",
   "execution_count": 5,
   "metadata": {},
   "outputs": [],
   "source": [
    "# This function gets the ipywidget checkboxes and creates a proper list \n",
    "# that will be used at the COMPANY Class.\n",
    "\n",
    "# create a string list bu considering checkbox widgets\n",
    "def set_service_list():\n",
    "    \n",
    "    # create an empty list\n",
    "    serviceList = []\n",
    "    \n",
    "    # if it is checked\n",
    "    if Dessertbox.value:\n",
    "        # add to the list\n",
    "        serviceList.append('Dessert')\n",
    "    # if it is checked\n",
    "    if Saladbox.value:\n",
    "        # add to the list\n",
    "        serviceList.append('Salad')\n",
    "    # if it is checked\n",
    "    if Drinkbox.value:\n",
    "        # add to the list\n",
    "        serviceList.append('Drink')\n",
    "    \n",
    "    # return the list\n",
    "    return serviceList"
   ]
  },
  {
   "cell_type": "code",
   "execution_count": 6,
   "metadata": {},
   "outputs": [
    {
     "data": {
      "application/vnd.jupyter.widget-view+json": {
       "model_id": "a962613c30b146f2b63681ee70886111",
       "version_major": 2,
       "version_minor": 0
      },
      "text/plain": [
       "Label(value='-------------------------->  RESTAURANT SIMULATOR PROGRAM  <--------------------------', layout=L…"
      ]
     },
     "metadata": {},
     "output_type": "display_data"
    },
    {
     "data": {
      "application/vnd.jupyter.widget-view+json": {
       "model_id": "0a9d63fa7bbb482e82efec7f188c58c1",
       "version_major": 2,
       "version_minor": 0
      },
      "text/plain": [
       "Text(value='Example LTD', description='Comp. Name', layout=Layout(width='50%'))"
      ]
     },
     "metadata": {},
     "output_type": "display_data"
    },
    {
     "data": {
      "application/vnd.jupyter.widget-view+json": {
       "model_id": "dad5ddfe90f64c5f9eee9369e11b051f",
       "version_major": 2,
       "version_minor": 0
      },
      "text/plain": [
       "Text(value='40.730610', description='Longitude', layout=Layout(width='30%'))"
      ]
     },
     "metadata": {},
     "output_type": "display_data"
    },
    {
     "data": {
      "application/vnd.jupyter.widget-view+json": {
       "model_id": "4c7649d3451e4d5abe012cb01a82fe51",
       "version_major": 2,
       "version_minor": 0
      },
      "text/plain": [
       "Text(value='-73.935242', description='Latitude', layout=Layout(width='30%'))"
      ]
     },
     "metadata": {},
     "output_type": "display_data"
    },
    {
     "data": {
      "application/vnd.jupyter.widget-view+json": {
       "model_id": "8a65865d89184b378305a56f9c777d7b",
       "version_major": 2,
       "version_minor": 0
      },
      "text/plain": [
       "Label(value='------!  You have to define a location around NEWYORK ## Center 40.74 & -73.94 ## !------', layou…"
      ]
     },
     "metadata": {},
     "output_type": "display_data"
    },
    {
     "data": {
      "application/vnd.jupyter.widget-view+json": {
       "model_id": "fadbc649859a4081abcc486d718901a6",
       "version_major": 2,
       "version_minor": 0
      },
      "text/plain": [
       "Label(value='-------------------------------------------------------------------------------------------------…"
      ]
     },
     "metadata": {},
     "output_type": "display_data"
    },
    {
     "data": {
      "application/vnd.jupyter.widget-view+json": {
       "model_id": "499dd68d40894a5ba26253eb78cbe750",
       "version_major": 2,
       "version_minor": 0
      },
      "text/plain": [
       "Label(value='Select Services:', layout=Layout(width='100%'))"
      ]
     },
     "metadata": {},
     "output_type": "display_data"
    },
    {
     "data": {
      "application/vnd.jupyter.widget-view+json": {
       "model_id": "2ef57cdc8b734f40808682d8e731c0a6",
       "version_major": 2,
       "version_minor": 0
      },
      "text/plain": [
       "Checkbox(value=False, description='Dessert')"
      ]
     },
     "metadata": {},
     "output_type": "display_data"
    },
    {
     "data": {
      "application/vnd.jupyter.widget-view+json": {
       "model_id": "3565b3c7fc5946788b91e79b74e32f84",
       "version_major": 2,
       "version_minor": 0
      },
      "text/plain": [
       "Checkbox(value=False, description='Salad')"
      ]
     },
     "metadata": {},
     "output_type": "display_data"
    },
    {
     "data": {
      "application/vnd.jupyter.widget-view+json": {
       "model_id": "9b4fb578fd564f31801617a6cb94c1dd",
       "version_major": 2,
       "version_minor": 0
      },
      "text/plain": [
       "Checkbox(value=False, description='Drink')"
      ]
     },
     "metadata": {},
     "output_type": "display_data"
    },
    {
     "data": {
      "application/vnd.jupyter.widget-view+json": {
       "model_id": "fadbc649859a4081abcc486d718901a6",
       "version_major": 2,
       "version_minor": 0
      },
      "text/plain": [
       "Label(value='-------------------------------------------------------------------------------------------------…"
      ]
     },
     "metadata": {},
     "output_type": "display_data"
    },
    {
     "data": {
      "application/vnd.jupyter.widget-view+json": {
       "model_id": "c60c0768d89e42c9a74d4a839e55a99b",
       "version_major": 2,
       "version_minor": 0
      },
      "text/plain": [
       "Label(value='Expected Average Price:', layout=Layout(width='100%'))"
      ]
     },
     "metadata": {},
     "output_type": "display_data"
    },
    {
     "data": {
      "application/vnd.jupyter.widget-view+json": {
       "model_id": "90e2ad874b664e39aac7249bec54e99a",
       "version_major": 2,
       "version_minor": 0
      },
      "text/plain": [
       "IntSlider(value=10, description='(Euro): ', min=10)"
      ]
     },
     "metadata": {},
     "output_type": "display_data"
    },
    {
     "data": {
      "application/vnd.jupyter.widget-view+json": {
       "model_id": "7da87e97cb7e4ada8973190edd77377d",
       "version_major": 2,
       "version_minor": 0
      },
      "text/plain": [
       "Label(value='Expected Average Unit Cost:', layout=Layout(width='100%'))"
      ]
     },
     "metadata": {},
     "output_type": "display_data"
    },
    {
     "data": {
      "application/vnd.jupyter.widget-view+json": {
       "model_id": "5f9b24ff035d4d62afb486e791a5b08b",
       "version_major": 2,
       "version_minor": 0
      },
      "text/plain": [
       "IntSlider(value=5, description='(Euro): ', max=50, min=5)"
      ]
     },
     "metadata": {},
     "output_type": "display_data"
    },
    {
     "data": {
      "application/vnd.jupyter.widget-view+json": {
       "model_id": "5eab3360eac34ebcb412261ca86059d4",
       "version_major": 2,
       "version_minor": 0
      },
      "text/plain": [
       "Label(value='Expected Sales Monthly:', layout=Layout(width='100%'))"
      ]
     },
     "metadata": {},
     "output_type": "display_data"
    },
    {
     "data": {
      "application/vnd.jupyter.widget-view+json": {
       "model_id": "15923268889a4dd6a4853d9335a43905",
       "version_major": 2,
       "version_minor": 0
      },
      "text/plain": [
       "IntSlider(value=5000, description='(Euro): ', max=10000, min=5000)"
      ]
     },
     "metadata": {},
     "output_type": "display_data"
    },
    {
     "data": {
      "application/vnd.jupyter.widget-view+json": {
       "model_id": "f6ad3d94a2d6450686ae07e04c88203f",
       "version_major": 2,
       "version_minor": 0
      },
      "text/plain": [
       "Label(value='Fixed Costs:', layout=Layout(width='100%'))"
      ]
     },
     "metadata": {},
     "output_type": "display_data"
    },
    {
     "data": {
      "application/vnd.jupyter.widget-view+json": {
       "model_id": "d32625db007e4efb82345e54777920f6",
       "version_major": 2,
       "version_minor": 0
      },
      "text/plain": [
       "FloatText(value=10000.0, description='(Euro): ')"
      ]
     },
     "metadata": {},
     "output_type": "display_data"
    },
    {
     "data": {
      "application/vnd.jupyter.widget-view+json": {
       "model_id": "045adafdaac14d31814dce4985586af7",
       "version_major": 2,
       "version_minor": 0
      },
      "text/plain": [
       "Label(value='Tax Rate:', layout=Layout(width='100%'))"
      ]
     },
     "metadata": {},
     "output_type": "display_data"
    },
    {
     "data": {
      "application/vnd.jupyter.widget-view+json": {
       "model_id": "305f44b4ebaf42518c16c363e672ff0e",
       "version_major": 2,
       "version_minor": 0
      },
      "text/plain": [
       "FloatSlider(value=5.0, description='%: ', min=5.0, step=1.0)"
      ]
     },
     "metadata": {},
     "output_type": "display_data"
    },
    {
     "data": {
      "application/vnd.jupyter.widget-view+json": {
       "model_id": "3fe916b336154713885d9886e51f191c",
       "version_major": 2,
       "version_minor": 0
      },
      "text/plain": [
       "Label(value='-------------------------------------------------------------------------------------------------…"
      ]
     },
     "metadata": {},
     "output_type": "display_data"
    }
   ],
   "source": [
    "# IMPORTANT \n",
    "\n",
    "# Before here you MUST run at leas 1 time to libraries\n",
    "# and also definition of these objects\n",
    "\n",
    "\n",
    "\n",
    "# display the widgets that I defined Here  \n",
    "display(programLabel)\n",
    "\n",
    "display(companyName)\n",
    "display(longitude)\n",
    "display(latitude)\n",
    "display(infoLabel)\n",
    "display(br2Label)\n",
    "\n",
    "\n",
    "display(servicesLabel)\n",
    "display(Dessertbox)\n",
    "display(Saladbox)\n",
    "display(Drinkbox)\n",
    "\n",
    "display(br2Label)\n",
    "\n",
    "display(expectedPriceLabel)\n",
    "display(expectedAveragePrice)\n",
    "\n",
    "display(expectedUnitCostLabel)\n",
    "display(expectedUnitCost)\n",
    "\n",
    "display(expectedSalesLabel)\n",
    "display(expectedSales)\n",
    "\n",
    "display(fixedCostLabel)\n",
    "display(fixedCost)\n",
    "\n",
    "display(taxRateLabel)\n",
    "display(taxRate)\n",
    "\n",
    "display(br3Label)\n",
    "\n",
    "\n",
    "# HERE PLEASE TYPE YOUR COMPANY'S INFORMATION"
   ]
  },
  {
   "cell_type": "code",
   "execution_count": 7,
   "metadata": {},
   "outputs": [],
   "source": [
    "# Create the environment and the company\n",
    "SimEnv = SimulationEnvironment()\n",
    "\n",
    "# if the location input is too far away ask a new location \n",
    "distanceFromCenter = SimEnv.calculate_distance_lon_lat(float(longitude.value),float(latitude.value),40.730610,-73.935242)\n",
    "\n",
    "# if location is greater then 10000 KM\n",
    "if distanceFromCenter > 10000:\n",
    "    # inform the user\n",
    "    print(\"Check Your Location:\\nLon: {}\\nLat: {}\\nDistance from center: {}\\nSelect it again!! Otherwise your location will be considered as center!!\".format(longitude.value,latitude.value,distanceFromCenter))\n",
    "    # take the center as location 40.74 & -73.94\n",
    "    company = Company(companyName.value,40.74,-73.94,set_service_list(),expectedAveragePrice.value,expectedUnitCost.value,expectedSales.value,fixedCost.value,taxRate.value)\n",
    "else:\n",
    "    # create a company object\n",
    "    company = Company(companyName.value,longitude.value,latitude.value,set_service_list(),expectedAveragePrice.value,expectedUnitCost.value,expectedSales.value,fixedCost.value,taxRate.value)\n",
    "    # print income statement\n",
    "\n"
   ]
  },
  {
   "cell_type": "code",
   "execution_count": 8,
   "metadata": {},
   "outputs": [
    {
     "name": "stdout",
     "output_type": "stream",
     "text": [
      "\n",
      "\n",
      "            Company Name: A-MEAN LTD\n",
      "\n",
      "            Location:\n",
      "                - Longitude : 40.730610° N\n",
      "                - Latitude  : -73.935242° E\n",
      "\n",
      "            Services:\n",
      "            \n",
      "            1 - Dessert\n",
      "\t\t\t2 - Salad\n",
      "\t\t\t\n",
      "            \n",
      "            Average Price      : 56\n",
      "            Average Unit Cost  : 17\n",
      "\n",
      "            Sales Volume       : 7839\n",
      "\n",
      "            Fixed Cost         : 135663.0\n",
      "\n",
      "            Tax Rate           : 0.18\n",
      "\n",
      "\n",
      "        \n"
     ]
    }
   ],
   "source": [
    "# Describe the company\n",
    "company.print_company_description()\n",
    "\n",
    "# save the company properties as txt file\n",
    "# company.save_company_description_to()"
   ]
  },
  {
   "cell_type": "code",
   "execution_count": 9,
   "metadata": {},
   "outputs": [
    {
     "name": "stdout",
     "output_type": "stream",
     "text": [
      "\n",
      "\n",
      "                    ==========  A-MEAN LTD's MONTHLY INCOME STATEMENT  ==========\n",
      "                   +------------------------------------------------------\n",
      "                   | Unit Price    : 56\n",
      "                   | Unit Cost     : 17\n",
      "                   +------------------\n",
      "                   | Contribution Margin : 39\n",
      "                   | Sales Volume        : 7839\n",
      "                   | Revenue             : 438984 (Monthly)\n",
      "                   +------------------\n",
      "                   | Cost of Goods Sold  : 133263 (Monthly)\n",
      "                   | Total Fixed Cost    : 135663.0 (Monthly)\n",
      "                   | Total Cost          : 268926.0\n",
      "                   +------------------\n",
      "                   | Gross Margin        : 305721\n",
      "                   | Taxes               : 55029.78\n",
      "                   +------------------\n",
      "                   | NET INCOME          : 250691.22\n",
      "                   +------------------------------------------------------\n",
      "\n",
      "\n",
      "        \n"
     ]
    }
   ],
   "source": [
    "# Show the income statement of the company\n",
    "company.print_income_statement()\n",
    "\n",
    "# Save income statement as txt\n",
    "#company.save_income_statement()"
   ]
  },
  {
   "cell_type": "code",
   "execution_count": 10,
   "metadata": {},
   "outputs": [
    {
     "data": {
      "image/png": "[encoded data removed]",
      "text/plain": [
       "<Figure size 450x450 with 1 Axes>"
      ]
     },
     "metadata": {},
     "output_type": "display_data"
    }
   ],
   "source": [
    "# plot break-even analysis\n",
    "company.plot_break_even_point()"
   ]
  },
  {
   "cell_type": "code",
   "execution_count": 13,
   "metadata": {},
   "outputs": [
    {
     "name": "stdout",
     "output_type": "stream",
     "text": [
      "The contribution margin is not a positive number !!\n",
      " Contribution Margin : 0\n"
     ]
    }
   ],
   "source": [
    "# SIMULATION EXECUTIONS\n",
    "\n",
    "# define constants\n",
    "tax_rate = 20\n",
    "\n",
    "# simulation environment is alreadt created as SimEnv but redefine it\n",
    "SimEnv = SimulationEnvironment(customerCount=10000)\n",
    "\n"
   ]
  },
  {
   "cell_type": "code",
   "execution_count": 19,
   "metadata": {},
   "outputs": [
    {
     "name": "stdout",
     "output_type": "stream",
     "text": [
      "\n",
      "Company: Main Company \tPROFIT: 12545.44 \tAvg Price: 20.85\t Avg Cost: 10.47\t Contribution Margin: 10.38\t Sales Vol: 1499 \n",
      "\n",
      "\n",
      "\n",
      "Company: Allegro Coffee Company \tPROFIT: 112424.00 \tAvg Price: 9.95\t Avg Cost: 4.93\t Contribution Margin: 5.01\t Sales Vol: 840 \n",
      "\n",
      "\n",
      "\n",
      "Company: Lower East Side Coffee Shop \tPROFIT: 108240.00 \tAvg Price: 13.78\t Avg Cost: 6.79\t Contribution Margin: 6.99\t Sales Vol: 843 \n",
      "\n",
      "\n",
      "\n",
      "Company: Coffee Project New York \tPROFIT: 94790.40 \tAvg Price: 14.73\t Avg Cost: 7.33\t Contribution Margin: 7.40\t Sales Vol: 901 \n",
      "\n",
      "\n",
      "\n",
      "Company: Irving Farm Coffee Roasters \tPROFIT: 32940.80 \tAvg Price: 9.95\t Avg Cost: 5.08\t Contribution Margin: 4.87\t Sales Vol: 857 \n",
      "\n",
      "\n",
      "Simulation Summary file submitted successfully!!\n"
     ]
    }
   ],
   "source": [
    "# You can save the simulation summary as txt file\n",
    "SimEnv.report_simulation_summary(willPrint = True)\n",
    "\n",
    "# THIS FILE WILL BE USED AT MAP FILE !!\n",
    "# IMPORTANT\n"
   ]
  },
  {
   "cell_type": "code",
   "execution_count": 22,
   "metadata": {},
   "outputs": [
    {
     "name": "stdout",
     "output_type": "stream",
     "text": [
      "Allegro Coffee Company income statement is successfully saved!\n",
      "\n",
      "\n",
      "                    ==========  Allegro Coffee Company's MONTHLY INCOME STATEMENT  ==========\n",
      "                   +------------------------------------------------------\n",
      "                   | Unit Price    : 9.543922984356197\n",
      "                   | Unit Cost     : 4.7647412755716\n",
      "                   +------------------\n",
      "                   | Contribution Margin : 4.779181708784597\n",
      "                   | Sales Volume        : 831\n",
      "                   | Revenue             : 184510 (Monthly)\n",
      "                   +------------------\n",
      "                   | Cost of Goods Sold  : 147608 (Monthly)\n",
      "                   | Total Fixed Cost    : 276203 (Monthly)\n",
      "                   | Total Cost          : 423811\n",
      "                   +------------------\n",
      "                   | Gross Margin        : 36902\n",
      "                   | Taxes               : 7380.400000000001\n",
      "                   +------------------\n",
      "                   | NET INCOME          : 29521.6\n",
      "                   +------------------------------------------------------\n",
      "\n",
      "\n",
      "        \n",
      "Lower East Side Coffee Shop income statement is successfully saved!\n",
      "\n",
      "\n",
      "                    ==========  Lower East Side Coffee Shop's MONTHLY INCOME STATEMENT  ==========\n",
      "                   +------------------------------------------------------\n",
      "                   | Unit Price    : 15.986128625472888\n",
      "                   | Unit Cost     : 8.00750315258512\n",
      "                   +------------------\n",
      "                   | Contribution Margin : 7.978625472887769\n",
      "                   | Sales Volume        : 793\n",
      "                   | Revenue             : 264960 (Monthly)\n",
      "                   +------------------\n",
      "                   | Cost of Goods Sold  : 73600 (Monthly)\n",
      "                   | Total Fixed Cost    : 191611 (Monthly)\n",
      "                   | Total Cost          : 265211\n",
      "                   +------------------\n",
      "                   | Gross Margin        : 191360\n",
      "                   | Taxes               : 38272.0\n",
      "                   +------------------\n",
      "                   | NET INCOME          : 153088.0\n",
      "                   +------------------------------------------------------\n",
      "\n",
      "\n",
      "        \n",
      "Coffee Project New York income statement is successfully saved!\n",
      "\n",
      "\n",
      "                    ==========  Coffee Project New York's MONTHLY INCOME STATEMENT  ==========\n",
      "                   +------------------------------------------------------\n",
      "                   | Unit Price    : 11.932752179327522\n",
      "                   | Unit Cost     : 6.050871731008717\n",
      "                   +------------------\n",
      "                   | Contribution Margin : 5.881880448318806\n",
      "                   | Sales Volume        : 803\n",
      "                   | Revenue             : 246077 (Monthly)\n",
      "                   +------------------\n",
      "                   | Cost of Goods Sold  : 94645 (Monthly)\n",
      "                   | Total Fixed Cost    : 184690 (Monthly)\n",
      "                   | Total Cost          : 279335\n",
      "                   +------------------\n",
      "                   | Gross Margin        : 151432\n",
      "                   | Taxes               : 30286.4\n",
      "                   +------------------\n",
      "                   | NET INCOME          : 121145.6\n",
      "                   +------------------------------------------------------\n",
      "\n",
      "\n",
      "        \n",
      "Irving Farm Coffee Roasters income statement is successfully saved!\n",
      "\n",
      "\n",
      "                    ==========  Irving Farm Coffee Roasters's MONTHLY INCOME STATEMENT  ==========\n",
      "                   +------------------------------------------------------\n",
      "                   | Unit Price    : 14.74878640776699\n",
      "                   | Unit Cost     : 7.386092233009708\n",
      "                   +------------------\n",
      "                   | Contribution Margin : 7.362694174757283\n",
      "                   | Sales Volume        : 824\n",
      "                   | Revenue             : 223648 (Monthly)\n",
      "                   +------------------\n",
      "                   | Cost of Goods Sold  : 69890 (Monthly)\n",
      "                   | Total Fixed Cost    : 299956 (Monthly)\n",
      "                   | Total Cost          : 369846\n",
      "                   +------------------\n",
      "                   | Gross Margin        : 153758\n",
      "                   | Taxes               : 30751.600000000002\n",
      "                   +------------------\n",
      "                   | NET INCOME          : 123006.4\n",
      "                   +------------------------------------------------------\n",
      "\n",
      "\n",
      "        \n"
     ]
    }
   ],
   "source": [
    "SimEnv.save_competitor_income_statements(willPrint = True)"
   ]
  }
 ],
 "metadata": {
  "kernelspec": {
   "display_name": "Python 3",
   "language": "python",
   "name": "python3"
  },
  "language_info": {
   "codemirror_mode": {
    "name": "ipython",
    "version": 3
   },
   "file_extension": ".py",
   "mimetype": "text/x-python",
   "name": "python",
   "nbconvert_exporter": "python",
   "pygments_lexer": "ipython3",
   "version": "3.8.5"
  }
 },
 "nbformat": 4,
 "nbformat_minor": 4
}
